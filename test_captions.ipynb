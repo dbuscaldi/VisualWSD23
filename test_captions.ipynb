{
 "cells": [
  {
   "cell_type": "code",
   "execution_count": 8,
   "id": "c99c5b1e",
   "metadata": {},
   "outputs": [
    {
     "name": "stdout",
     "output_type": "stream",
     "text": [
      "andromeda tree a flower arrangement in a flower pot in a garden tensor([[0.1730]])\n",
      "andromeda tree a lake with a river and a bench tensor([[0.0860]])\n",
      "andromeda tree a variety of fruits and vegetables on a table tensor([[0.1353]])\n"
     ]
    }
   ],
   "source": [
    "from sentence_transformers import SentenceTransformer, util\n",
    "\n",
    "model = SentenceTransformer('all-mpnet-base-v2')\n",
    "#model = SentenceTransformer('multi-qa-MiniLM-L6-cos-v1')\n",
    "\n",
    "captions = ['a flower arrangement in a flower pot in a garden',\n",
    "             'a lake with a river and a bench',\n",
    "             'a variety of fruits and vegetables on a table']\n",
    "\n",
    "context = 'andromeda tree'\n",
    "\n",
    "#Compute embeddings\n",
    "embeddings = model.encode(captions, convert_to_tensor=True)\n",
    "ctx_embedding = model.encode(context)\n",
    "\n",
    "i=0\n",
    "for emb in embeddings:\n",
    "    score=util.cos_sim(ctx_embedding, emb)\n",
    "    print(context, captions[i], score)\n",
    "    i+=1"
   ]
  },
  {
   "cell_type": "code",
   "execution_count": null,
   "id": "c56a22c1",
   "metadata": {},
   "outputs": [],
   "source": []
  }
 ],
 "metadata": {
  "kernelspec": {
   "display_name": "Python 3 (ipykernel)",
   "language": "python",
   "name": "python3"
  },
  "language_info": {
   "codemirror_mode": {
    "name": "ipython",
    "version": 3
   },
   "file_extension": ".py",
   "mimetype": "text/x-python",
   "name": "python",
   "nbconvert_exporter": "python",
   "pygments_lexer": "ipython3",
   "version": "3.10.10"
  }
 },
 "nbformat": 4,
 "nbformat_minor": 5
}
